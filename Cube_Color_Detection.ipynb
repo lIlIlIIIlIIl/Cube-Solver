{
  "nbformat": 4,
  "nbformat_minor": 0,
  "metadata": {
    "colab": {
      "provenance": [],
      "authorship_tag": "ABX9TyMUUPczJtsiA94w8+FeHPSG",
      "include_colab_link": true
    },
    "kernelspec": {
      "name": "python3",
      "display_name": "Python 3"
    },
    "language_info": {
      "name": "python"
    }
  },
  "cells": [
    {
      "cell_type": "markdown",
      "metadata": {
        "id": "view-in-github",
        "colab_type": "text"
      },
      "source": [
        "<a href=\"https://colab.research.google.com/github/lIlIlIIIlIIl/Cube-Solver/blob/main/Cube_Color_Detection.ipynb\" target=\"_parent\"><img src=\"https://colab.research.google.com/assets/colab-badge.svg\" alt=\"Open In Colab\"/></a>"
      ]
    },
    {
      "cell_type": "markdown",
      "source": [
        "# Ultralystics 설치"
      ],
      "metadata": {
        "id": "RvbtKsrfTkdK"
      }
    },
    {
      "cell_type": "code",
      "execution_count": null,
      "metadata": {
        "id": "FuMhJxc8TbUz"
      },
      "outputs": [],
      "source": [
        "import locale\n",
        "locale.getpreferredencoding = lambda: \"UTF-8\"\n",
        "\n",
        "!pip install -U ultralytics"
      ]
    },
    {
      "cell_type": "markdown",
      "source": [
        "# Import"
      ],
      "metadata": {
        "id": "eRR1mKlAT_lE"
      }
    },
    {
      "cell_type": "code",
      "source": [
        "!pip install onnx\n",
        "!pip install onnxruntime-gpu"
      ],
      "metadata": {
        "id": "8U41ANjGUoME"
      },
      "execution_count": null,
      "outputs": []
    },
    {
      "cell_type": "code",
      "source": [
        "import os\n",
        "import cv2\n",
        "import numpy as np\n",
        "\n",
        "from ultralytics.utils.plotting import Annotator, colors\n",
        "from ultralytics import YOLO\n",
        "\n",
        "import torch\n",
        "from PIL import Image\n",
        "from torchvision import transforms"
      ],
      "metadata": {
        "id": "QrnfBbBAUBOS"
      },
      "execution_count": null,
      "outputs": []
    },
    {
      "cell_type": "markdown",
      "source": [
        "# Cube Detector Training"
      ],
      "metadata": {
        "id": "UfN7247iUKt7"
      }
    },
    {
      "cell_type": "code",
      "source": [
        "from ultralytics import YOLO\n",
        "\n",
        "# Load a model\n",
        "model = YOLO(\"yolo11n.pt\")\n",
        "\n",
        "# Train the model\n",
        "train_results = model.train(\n",
        "    data=\"https://universe.roboflow.com/ds/f1PhdDnpq6?key=ziMPHpXihd\",  # path to dataset\n",
        "    epochs=100,  # number of training epochs\n",
        "    imgsz=640,  # training image size\n",
        "    device=\"0\",  # device to run on, i.e. device=0 or device=0,1,2,3 or device=cpu\n",
        ")"
      ],
      "metadata": {
        "id": "EFu7EBNlUNO5"
      },
      "execution_count": null,
      "outputs": []
    },
    {
      "cell_type": "code",
      "source": [
        "# Evaluate model performance on the validation set\n",
        "metrics = model.val() # no arguments needed, dataset and settings remembered\n",
        "\n",
        "# Export the model to ONNX format\n",
        "path = model.export(format=\"onnx\")  # return path to exported model"
      ],
      "metadata": {
        "id": "nmDByIVqU4wU"
      },
      "execution_count": null,
      "outputs": []
    },
    {
      "cell_type": "markdown",
      "source": [
        "# Color Detector Training(데이터셋 확보 X)"
      ],
      "metadata": {
        "id": "LXoIdmqKUacA"
      }
    },
    {
      "cell_type": "code",
      "source": [
        "model = YOLO(\"yolo11n.pt\")\n",
        "\n",
        "# Train the model\n",
        "train_results = model.train(\n",
        "    data=\"https://universe.roboflow.com/ds/g1SAsAJD1a?key=AJZ5k2p9Cz\",  # path to dataset YAML\n",
        "    epochs=100,  # number of training epochs\n",
        "    imgsz=640,  # training image size\n",
        "    device=\"0\",  # device to run on, i.e. device=0 or device=0,1,2,3 or device=cpu\n",
        ")"
      ],
      "metadata": {
        "id": "Y1AEscggUjTM"
      },
      "execution_count": null,
      "outputs": []
    },
    {
      "cell_type": "code",
      "source": [
        "# Evaluate model performance on the validation set\n",
        "metrics = model.val() # no arguments needed, dataset and settings remembered\n",
        "path = model.export(format=\"onnx\")"
      ],
      "metadata": {
        "id": "RxiajGBVU1AW"
      },
      "execution_count": null,
      "outputs": []
    },
    {
      "cell_type": "markdown",
      "source": [
        "# Cube Detector"
      ],
      "metadata": {
        "id": "alRBAgJZU9hH"
      }
    },
    {
      "cell_type": "code",
      "source": [
        "def CubeDetector(img, model_onnx):\n",
        "    # img = \"/content/sample_image.png\"\n",
        "\n",
        "    model = YOLO(model_onnx, task='detect')\n",
        "    results = model.predict(img, iou=0.45, device=\"cpu\", max_det=1) # return a list of Results objects\n",
        "    results[0].show()\n",
        "\n",
        "    crop_dir_name = \"detected_cube\"\n",
        "    names = model.names\n",
        "    boxes = results[0].boxes.xyxy.cpu().tolist()\n",
        "    clss = results[0].boxes.cls.cpu().tolist()\n",
        "\n",
        "    img = np.array(Image.open(img))\n",
        "    img = cv2.cvtColor(img, cv2.COLOR_RGB2BGR) # PIL은 RGB, OpenCV는 BGR이므로 색 변환\n",
        "\n",
        "    annotator = Annotator(img, line_width=2, example=names)\n",
        "\n",
        "    if boxes is not None:\n",
        "        for box, cls in zip(boxes, clss):\n",
        "            annotator.box_label(box, color=colors(int(cls), True), label=names[int(cls)])\n",
        "\n",
        "            crop_obj = img[int(box[1]) : int(box[3]), int(box[0]) : int(box[2])]\n",
        "\n",
        "            cv2.imwrite(os.path.join(crop_dir_name + \".png\"), crop_obj)\n",
        "\n",
        "    return crop_dir_name + \".png\""
      ],
      "metadata": {
        "id": "pwhx9oEeVA2h"
      },
      "execution_count": null,
      "outputs": []
    },
    {
      "cell_type": "markdown",
      "source": [
        "# Color Detector"
      ],
      "metadata": {
        "id": "jz34UrbrVLQK"
      }
    },
    {
      "cell_type": "code",
      "source": [
        "def ColorDetector(img, model_onnx):\n",
        "    # img = \"/content/detected_cube.png\"\n",
        "\n",
        "    model = YOLO(model_onnx, task=\"detect\")\n",
        "    results = model.predict(img, iou=0.45, device='cpu') # return a list of Results objects\n",
        "    results[0].show()"
      ],
      "metadata": {
        "id": "QIx7OJ8jVNoX"
      },
      "execution_count": null,
      "outputs": []
    }
  ]
}